{
 "cells": [
  {
   "cell_type": "markdown",
   "metadata": {},
   "source": [
    "# § Intro to Coding and Data Management (Part I) §\n",
    "\n",
    "### September 13, 2018\n",
    "\n",
    "# Student First/Last Name: \n",
    "\n",
    "# Student ID:\n",
    "\n",
    "\n",
    "### Exam Description\n",
    "\n",
    "Immediately write your First & Last Name, student ID on each paper, and sign them. You have to return all of them.\n",
    "\n",
    "You have 2 hours to complete the exam.\n",
    "\n",
    "The exam includes 3 questions (worth 3 points) and 6 exercises (worth 12 points).\n",
    "\n",
    "For each question, write down the single operations leading to the result (e.g., 1+3+5+7+9=25).\n",
    "\n",
    "For each exercise, provide the Python code implementing the requested function.\n",
    "Please include comments in your code so as to explain the meaning of each operation.\n",
    "If appropriate, include a short textual description of the algorithm implemented."
   ]
  },
  {
   "cell_type": "markdown",
   "metadata": {},
   "source": [
    "## Question Q1: What is the output of this code?\n",
    "```Python\n",
    "    L = [0, 1, 2, 3, 4, 6, 7, 8, 9, 10]\n",
    "    sum = 0\n",
    "    for i in range(5,10):\n",
    "         sum += L[i]\n",
    "    print(sum)\n",
    "```\n",
    "\n"
   ]
  },
  {
   "cell_type": "code",
   "execution_count": 1,
   "metadata": {},
   "outputs": [
    {
     "name": "stdout",
     "output_type": "stream",
     "text": [
      "40\n"
     ]
    }
   ],
   "source": [
    "L = [0, 1, 2, 3, 4, 6, 7, 8, 9, 10]\n",
    "sum = 0\n",
    "for i in range(5,10):\n",
    "     sum += L[i]\n",
    "print(sum)"
   ]
  },
  {
   "cell_type": "markdown",
   "metadata": {},
   "source": [
    "## Question Q2: What is the output of this code?\n",
    "\n",
    "```Python\n",
    "    L1 = [1, 2, 3, 4, 5, 6, 5, 4, 3, 2, 1]\n",
    "    sum = 0\n",
    "    i = 10\n",
    "    while i >= 7:\n",
    "        sum += L1[i]\n",
    "        i = i - 1\n",
    "    print(sum)\n",
    "```\n"
   ]
  },
  {
   "cell_type": "code",
   "execution_count": 3,
   "metadata": {},
   "outputs": [
    {
     "name": "stdout",
     "output_type": "stream",
     "text": [
      "10\n"
     ]
    }
   ],
   "source": [
    "L1 = [1, 2, 3, 4, 5, 6, 5, 4, 3, 2, 1]\n",
    "sum = 0\n",
    "i = 10\n",
    "while i >= 7:\n",
    "    sum += L1[i]\n",
    "    i = i - 1\n",
    "print(sum)"
   ]
  },
  {
   "cell_type": "markdown",
   "metadata": {},
   "source": [
    "## Question Q3: What is the output of this code?\n",
    "```Python\n",
    "L = [1, 2, 3, 4, 5, 6, 7, 8, 9, 10]\n",
    "cnt = 0\n",
    "sum = 0\n",
    "for i in range(6):\n",
    "    if i%2 == 1:\n",
    "        sum += i\n",
    "        continue\n",
    "    for elem in L:\n",
    "        cnt +=1\n",
    "        if elem%2 == 0:\n",
    "            sum += elem\n",
    "print(sum)\n",
    "```\n"
   ]
  },
  {
   "cell_type": "code",
   "execution_count": 5,
   "metadata": {},
   "outputs": [
    {
     "name": "stdout",
     "output_type": "stream",
     "text": [
      "99\n"
     ]
    }
   ],
   "source": [
    "L = [1, 2, 3, 4, 5, 6, 7, 8, 9, 10]\n",
    "cnt = 0\n",
    "sum = 0\n",
    "for i in range(6):\n",
    "    if i%2 == 1:\n",
    "        sum += i\n",
    "        continue\n",
    "    for elem in L:\n",
    "        cnt +=1\n",
    "        if elem%2 == 0:\n",
    "            sum += elem\n",
    "print(sum)"
   ]
  },
  {
   "cell_type": "markdown",
   "metadata": {},
   "source": [
    "## Exercise EX1: Dictionary\n",
    "\n",
    "Write a function named `my_fun` that given a dictionary `D` having strings as keys and integers as values, it returns a list containing the values of `D` associated to keys starting with the letter `a`.\n",
    "\n",
    "*Example:*\n",
    "```python \n",
    "D = {'Lorem':10, 'ipsum':20, 'dolor':50, \n",
    "     'sit':80, 'amet':100, 'consectetur':70, \n",
    "     'adipiscing':60, 'elit':40}\n",
    "print ( my_fun(D) )    \n",
    "[100, 60]\n",
    "```"
   ]
  },
  {
   "cell_type": "code",
   "execution_count": 8,
   "metadata": {},
   "outputs": [
    {
     "name": "stdout",
     "output_type": "stream",
     "text": [
      "[100, 60]\n"
     ]
    }
   ],
   "source": [
    "def my_fun(D):\n",
    "    L = []\n",
    "    for k,v in D.items():\n",
    "        if k[0]=='a':\n",
    "            L += [v]\n",
    "    return L\n",
    "\n",
    "D = {'Lorem':10, 'ipsum':20, 'dolor':50, \n",
    "     'sit':80, 'amet':100, 'consectetur':70, \n",
    "     'adipiscing':60, 'elit':40}\n",
    "\n",
    "print ( my_fun(D) )    \n"
   ]
  },
  {
   "cell_type": "markdown",
   "metadata": {},
   "source": [
    "## Exercise EX2: Double List\n",
    "\n",
    "We are given a wheather forecasting software that produced a list `P` of daily temperature predictions. For the same days we have the list `T` with the actual temperature observed. We say that the prediction is not accurate if the difference between the predicted temperature and the actual temperature is larger than 3 degrees.\n",
    "\n",
    "Write a function named `my_fun` that given the two lists `P` and `T`, it returns the number of days for which the prediction was not accurate.\n",
    "\n",
    "*Example:*\n",
    "```python \n",
    "T = [25, 26, 28, 31, 27, 25]\n",
    "P = [26, 27, 27, 27, 28, 29]\n",
    "print (my_fun(P,T))\n",
    "2  # because 31-27>3 and 29-25>3\n",
    "```"
   ]
  },
  {
   "cell_type": "code",
   "execution_count": 13,
   "metadata": {},
   "outputs": [
    {
     "name": "stdout",
     "output_type": "stream",
     "text": [
      "2\n"
     ]
    }
   ],
   "source": [
    "def my_fun(P,T):\n",
    "    count = 0\n",
    "    for i in range(len(P)):\n",
    "        if abs(P[i]-T[i])>3:\n",
    "            count += 1\n",
    "    return count\n",
    "\n",
    "T = [25, 26, 28, 31, 27, 25]\n",
    "P = [26, 27, 27, 27, 28, 29]\n",
    "\n",
    "print (my_fun(P,T))"
   ]
  },
  {
   "cell_type": "markdown",
   "metadata": {},
   "source": [
    "## Exercise EX3: Largest Error\n",
    "\n",
    "In the same scenario as Ex.2, write a function named `my_fun` that given the two lists `P` and `T`, it returns a list of two values, the first being the largest error and the second being the number of days with such error.\n",
    "\n",
    "*Example:*\n",
    "```python \n",
    "T = [25, 26, 28, 31, 27, 25]\n",
    "P = [26, 27, 27, 27, 28, 29]\n",
    "print (my_fun(P,T))\n",
    "[4, 2]  # because the largest error is 4 and it occurs twice\n",
    "        # in the 4th and 6th element of the lists\n",
    "```"
   ]
  },
  {
   "cell_type": "code",
   "execution_count": 23,
   "metadata": {},
   "outputs": [
    {
     "name": "stdout",
     "output_type": "stream",
     "text": [
      "[4, 2]\n"
     ]
    }
   ],
   "source": [
    "def my_fun(P,T):\n",
    "    count = 0\n",
    "    error = None\n",
    "    for i in range(len(P)):\n",
    "        if error is None:\n",
    "            error = abs(P[i]-T[i])\n",
    "            count = 1\n",
    "        elif abs(P[i]-T[i])>error:\n",
    "            error = abs(P[i]-T[i])\n",
    "            count = 1\n",
    "        elif abs(P[i]-T[i])==error:\n",
    "            count += 1\n",
    "    return [error, count]\n",
    "\n",
    "T = [25, 26, 28, 31, 27, 25]\n",
    "P = [26, 27, 27, 27, 28, 29]\n",
    "\n",
    "print (my_fun(P,T))"
   ]
  },
  {
   "cell_type": "markdown",
   "metadata": {},
   "source": [
    "## Exercise EX4: Consecutive\n",
    "\n",
    "\n",
    "Write a function named `my_fun` that given a list of integers `L` and and integer `n`, \n",
    "it returns `True` if the list contains a consecutive sequence of ones of length `n`,\n",
    "and `False` otherwhise.\n",
    "\n",
    "*Example:*\n",
    "```python\n",
    "L = [1,2,3,4,1,1,1,2,3,4]\n",
    "n = 3\n",
    "print(my_fun(L,n))\n",
    "True  # there are 3 ones at the 5th position\n",
    "```"
   ]
  },
  {
   "cell_type": "code",
   "execution_count": 4,
   "metadata": {},
   "outputs": [
    {
     "name": "stdout",
     "output_type": "stream",
     "text": [
      "True\n"
     ]
    }
   ],
   "source": [
    "def my_fun(L, n):\n",
    "    for i in range(len(L)-n+1):\n",
    "        found = True\n",
    "        for j in range(i, i+n):\n",
    "            if L[j]!=1:\n",
    "                found = False\n",
    "        if found:\n",
    "            return True\n",
    "    return False\n",
    "\n",
    "L = [1,2,3,4,1,1,1,2,3,4]\n",
    "n = 3\n",
    "print(my_fun(L,n))"
   ]
  },
  {
   "cell_type": "markdown",
   "metadata": {},
   "source": [
    "## Exercise EX5: Square in Square\n",
    "\n",
    "Write a function named `my_fun` that given a integer `n`, \n",
    "prints `n` squares one inside the other using the characters `o` and `.`,\n",
    "the first square being `.`, as in the example below.\n",
    "*(Assume n>=1)*\n",
    "\n",
    "*Example:*    \n",
    "```python\n",
    "    my_fun(4)\n",
    "```\n",
    "    ooooooo\n",
    "    o.....o\n",
    "    o.ooo.o\n",
    "    o.o.o.o\n",
    "    o.ooo.o\n",
    "    o.....o\n",
    "    ooooooo"
   ]
  },
  {
   "cell_type": "code",
   "execution_count": 86,
   "metadata": {},
   "outputs": [
    {
     "name": "stdout",
     "output_type": "stream",
     "text": [
      "ooooooo\n",
      "o.....o\n",
      "o.ooo.o\n",
      "o.o.o.o\n",
      "o.ooo.o\n",
      "o.....o\n",
      "ooooooo\n"
     ]
    }
   ],
   "source": [
    "def my_fun(n):\n",
    "    colors = \".o\"\n",
    "    L = ['.']\n",
    "    for i in range(1,n):\n",
    "        c = colors[i%2]\n",
    "        Z = []\n",
    "        Z += [ c*(len(L[0])+2) ]\n",
    "        for s in L:\n",
    "            Z += [ c+s+c ]\n",
    "        Z += [ c*(len(L[0])+2) ]\n",
    "        L = Z\n",
    "    for s in L:\n",
    "        print (s)\n",
    "my_fun(4)"
   ]
  },
  {
   "cell_type": "markdown",
   "metadata": {},
   "source": [
    "## Exercise EX6: Bitonic\n",
    "\n",
    "A bitonic sequence is a list of values such that they are always decreasing up to some unknown position $i$, and then they are increasing up to the end. Write a function named `my_fun` that given a bitonic list `L` returns the smallest element by using a binary search strategy.\n",
    "\n",
    "*Example:*\n",
    "```python\n",
    "L = [5,4,3,2,1,0,1,2,3]\n",
    "print (my_fun(L))\n",
    "0\n",
    "```"
   ]
  },
  {
   "cell_type": "code",
   "execution_count": 93,
   "metadata": {},
   "outputs": [
    {
     "name": "stdout",
     "output_type": "stream",
     "text": [
      "0\n"
     ]
    }
   ],
   "source": [
    "def my_fun(L):\n",
    "    smallest = L[0]\n",
    "    start = 1\n",
    "    end   = len(L)-1\n",
    "    while start<=end:\n",
    "        mid   = (start + end) // 2\n",
    "        \n",
    "        if L[mid]<smallest: # check smallest\n",
    "            smallest = L[mid]\n",
    "            \n",
    "        if L[mid]<L[mid-1]: # smallest is to the right\n",
    "            start = mid+1\n",
    "        else:\n",
    "            end = mid-1\n",
    "    \n",
    "    return smallest\n",
    "\n",
    "L = [5,4,3,2,1,0,1,2,3]\n",
    "print ( my_fun(L) )   "
   ]
  },
  {
   "cell_type": "markdown",
   "metadata": {},
   "source": [
    "# §§ Intro to Coding and Data Management (Part I) §§\n",
    "\n",
    "### September 13, 2018\n",
    "\n",
    "# Student First/Last Name: \n",
    "\n",
    "# Student ID:\n",
    "\n",
    "\n",
    "### Exam Description\n",
    "\n",
    "Immediately write your First & Last Name, student ID on each paper, and sign them. You have to return all of them.\n",
    "\n",
    "You have 2 hours to complete the exam.\n",
    "\n",
    "The exam includes 3 questions (worth 3 points) and 6 exercises (worth 12 points).\n",
    "\n",
    "For each question, write down the single operations leading to the result (e.g., 1+3+5+7+9=25).\n",
    "\n",
    "For each exercise, provide the Python code implementing the requested function.\n",
    "Please include comments in your code so as to explain the meaning of each operation.\n",
    "If appropriate, include a short textual description of the algorithm implemented."
   ]
  },
  {
   "cell_type": "markdown",
   "metadata": {},
   "source": [
    "## Question Q1: What is the output of this code?\n",
    "```Python\n",
    "    L = [1, 2, 3, 4, 6, 7, 8, 9, 10]\n",
    "    sum = 0\n",
    "    for i in range(1,10,3):\n",
    "         sum += L[i]\n",
    "    print(sum)\n",
    "```\n",
    "\n"
   ]
  },
  {
   "cell_type": "code",
   "execution_count": 2,
   "metadata": {},
   "outputs": [
    {
     "name": "stdout",
     "output_type": "stream",
     "text": [
      "17\n"
     ]
    }
   ],
   "source": [
    "L = [1, 2, 3, 4, 6, 7, 8, 9, 10]\n",
    "sum = 0\n",
    "for i in range(1,10,3):\n",
    "     sum += L[i]\n",
    "print(sum)"
   ]
  },
  {
   "cell_type": "markdown",
   "metadata": {},
   "source": [
    "## Question Q2: What is the output of this code?\n",
    "```Python\n",
    "    L1 = [0, 1, 2, 3, 4, 5, 6, 7, 8, 9, 10]\n",
    "    sum = 0\n",
    "    i = 1\n",
    "    while i <= 6:\n",
    "        sum += L1[1]\n",
    "        i = i + 2\n",
    "    print(sum)\n",
    "```"
   ]
  },
  {
   "cell_type": "code",
   "execution_count": 4,
   "metadata": {},
   "outputs": [
    {
     "name": "stdout",
     "output_type": "stream",
     "text": [
      "3\n"
     ]
    }
   ],
   "source": [
    "L1 = [0, 1, 2, 3, 4, 5, 6, 7, 8, 9, 10]\n",
    "sum = 0\n",
    "i = 1\n",
    "while i <= 6:\n",
    "    sum += L1[1]\n",
    "    i = i + 2\n",
    "print(sum)"
   ]
  },
  {
   "cell_type": "markdown",
   "metadata": {},
   "source": [
    "## Question Q3: What is the output of this code?\n",
    "```Python\n",
    "L1 = [0, 1, 2, 3, 4, 5, 6, 7, 8, 9, 10]\n",
    "cnt = 0\n",
    "sum = 0\n",
    "for i in range(2,6):\n",
    "    if i%2 == 0:\n",
    "        sum += i\n",
    "        continue\n",
    "    for elem in range(len(L1)):\n",
    "        cnt +=1\n",
    "        if elem%2 == 1:\n",
    "            sum += elem\n",
    "print(cnt)\n",
    "```\n"
   ]
  },
  {
   "cell_type": "code",
   "execution_count": 6,
   "metadata": {},
   "outputs": [
    {
     "name": "stdout",
     "output_type": "stream",
     "text": [
      "22\n"
     ]
    }
   ],
   "source": [
    "L1 = [0, 1, 2, 3, 4, 5, 6, 7, 8, 9, 10]\n",
    "cnt = 0\n",
    "sum = 0\n",
    "for i in range(2,6):\n",
    "    if i%2 == 0:\n",
    "        sum += i\n",
    "        continue\n",
    "    for elem in range(len(L1)):\n",
    "        cnt +=1\n",
    "        if elem%2 == 1:\n",
    "            sum += elem\n",
    "print(cnt)"
   ]
  },
  {
   "cell_type": "markdown",
   "metadata": {},
   "source": [
    "## Exercise EX1: Dictionary\n",
    "\n",
    "Write a function named `my_fun` that given a dictionary `D` having strings as keys and integers as values, it returns a list containing the values of `D` associated to keys ending with the letter `t`.\n",
    "\n",
    "*Example:*\n",
    "```python \n",
    "D = {'Lorem':10, 'ipsum':20, 'dolor':50, \n",
    "     'sit':80, 'amet':100, 'consectetur':70, \n",
    "     'adipiscing':60, 'elit':40}\n",
    "print ( my_fun(D) )    \n",
    "[80, 100, 40]\n",
    "```"
   ]
  },
  {
   "cell_type": "code",
   "execution_count": 9,
   "metadata": {},
   "outputs": [
    {
     "name": "stdout",
     "output_type": "stream",
     "text": [
      "[80, 100, 40]\n"
     ]
    }
   ],
   "source": [
    "def my_fun(D):\n",
    "    L = []\n",
    "    for k,v in D.items():\n",
    "        if k[-1]=='t':\n",
    "            L += [v]\n",
    "    return L\n",
    "\n",
    "D = {'Lorem':10, 'ipsum':20, 'dolor':50, \n",
    "     'sit':80, 'amet':100, 'consectetur':70, \n",
    "     'adipiscing':60, 'elit':40}\n",
    "\n",
    "print ( my_fun(D) )    \n"
   ]
  },
  {
   "cell_type": "markdown",
   "metadata": {},
   "source": [
    "## Exercise EX2: Double List\n",
    "\n",
    "We are given a wheather forecasting software that produced a list `P` of daily temperature predictions. For the same days we have the list `T` with the actual temperature observed. We say that the prediction is accurate if the difference between the predicted temperature and the actual temperature is smaller than 2 degrees.\n",
    "\n",
    "Write a function named `my_fun` that given the two lists `P` and `T`, it returns the number of days for which the prediction was accurate.\n",
    "\n",
    "*Example:*\n",
    "```python \n",
    "T = [25, 26, 28, 31, 27, 25]\n",
    "P = [26, 27, 26, 27, 28, 27]\n",
    "print (my_fun(P,T))\n",
    "3  # because 26-26<2, 27-26<2, 28-27<2\n",
    "```"
   ]
  },
  {
   "cell_type": "code",
   "execution_count": 20,
   "metadata": {},
   "outputs": [
    {
     "name": "stdout",
     "output_type": "stream",
     "text": [
      "3\n"
     ]
    }
   ],
   "source": [
    "def my_fun(P,T):\n",
    "    count = 0\n",
    "    for i in range(len(P)):\n",
    "        if abs(P[i]-T[i])<2:\n",
    "            count += 1\n",
    "    return count\n",
    "\n",
    "T = [25, 26, 28, 31, 27, 25]\n",
    "P = [26, 27, 26, 27, 28, 27]\n",
    "\n",
    "print (my_fun(P,T))"
   ]
  },
  {
   "cell_type": "markdown",
   "metadata": {},
   "source": [
    "## Exercise EX3: Smallest Error\n",
    "\n",
    "In the same scenario as Ex.2, write a function named `my_fun` that given the two lists `P` and `T`, it returns a list of two values, the first being the smallest error and the second being the number of days with such error.\n",
    "\n",
    "*Example:*\n",
    "```python \n",
    "T = [25, 26, 28, 31, 27, 25]\n",
    "P = [26, 28, 27, 27, 29, 29]\n",
    "print (my_fun(P,T))\n",
    "[1, 2]  # because the smallest error is 1 and it occurs twice\n",
    "        # in the 1st and 3rd element of the lists\n",
    "```"
   ]
  },
  {
   "cell_type": "code",
   "execution_count": 26,
   "metadata": {},
   "outputs": [
    {
     "name": "stdout",
     "output_type": "stream",
     "text": [
      "[1, 2]\n"
     ]
    }
   ],
   "source": [
    "def my_fun(P,T):\n",
    "    count = 0\n",
    "    error = None\n",
    "    for i in range(len(P)):\n",
    "        if error is None:\n",
    "            error = abs(P[i]-T[i])\n",
    "            count = 1\n",
    "        elif abs(P[i]-T[i])<error:\n",
    "            error = abs(P[i]-T[i])\n",
    "            count = 1\n",
    "        elif abs(P[i]-T[i])==error:\n",
    "            count += 1\n",
    "    return [error, count]\n",
    "\n",
    "T = [25, 26, 28, 31, 27, 25]\n",
    "P = [26, 28, 27, 27, 29, 29]\n",
    "\n",
    "print (my_fun(P,T))"
   ]
  },
  {
   "cell_type": "markdown",
   "metadata": {},
   "source": [
    "## Exercise EX4: Consecutive\n",
    "\n",
    "\n",
    "Write a function named `my_fun` that given a list of integers `L` and and integer `n`, \n",
    "it returns `True` if the list contains a consecutive sequence of values whose sum is `n`,\n",
    "and `False` otherwhise.\n",
    "\n",
    "*Example:*\n",
    "```python\n",
    "L = [2,2,4,4,0,0,2,8]\n",
    "n = 3\n",
    "print(my_fun(L,n))\n",
    "False # Because there are not consecutive values summing up to 3\n",
    "```"
   ]
  },
  {
   "cell_type": "code",
   "execution_count": 22,
   "metadata": {},
   "outputs": [
    {
     "name": "stdout",
     "output_type": "stream",
     "text": [
      "False\n"
     ]
    }
   ],
   "source": [
    "def my_fun(L, n):\n",
    "    for i in range(len(L)):\n",
    "        sum = 0\n",
    "        for j in L[i:]:\n",
    "            sum += j\n",
    "            if sum==n:\n",
    "                return True\n",
    "    return False\n",
    "\n",
    "L = [2,2,4,4,0,0,2,8]\n",
    "n = 3\n",
    "print(my_fun(L,n))"
   ]
  },
  {
   "cell_type": "markdown",
   "metadata": {},
   "source": [
    "## Exercise EX5: Rectangle in Rectangle\n",
    "\n",
    "Write a function named `my_fun` that given a integer `n`, \n",
    "prints `n` rectangles one inside the other using the characters `o` and `.`,\n",
    "the first rectangle being `\"....\"`, as in the example below.\n",
    "*(Assume n>=1)*\n",
    "\n",
    "*Example:*    \n",
    "```python\n",
    "    my_fun(4)\n",
    "```\n",
    " \n",
    "    oooooooooo\n",
    "    o........o\n",
    "    o.oooooo.o\n",
    "    o.o....o.o\n",
    "    o.oooooo.o\n",
    "    o........o\n",
    "    oooooooooo"
   ]
  },
  {
   "cell_type": "code",
   "execution_count": 87,
   "metadata": {},
   "outputs": [
    {
     "name": "stdout",
     "output_type": "stream",
     "text": [
      "oooooooooo\n",
      "o........o\n",
      "o.oooooo.o\n",
      "o.o....o.o\n",
      "o.oooooo.o\n",
      "o........o\n",
      "oooooooooo\n"
     ]
    }
   ],
   "source": [
    "def my_fun(n):\n",
    "    colors = \".o\"\n",
    "    L = ['....']\n",
    "    for i in range(1,n):\n",
    "        c = colors[i%2]\n",
    "        Z = []\n",
    "        Z += [ c*(len(L[0])+2) ]\n",
    "        for s in L:\n",
    "            Z += [ c+s+c ]\n",
    "        Z += [ c*(len(L[0])+2) ]\n",
    "        L = Z\n",
    "    for s in L:\n",
    "        print (s)\n",
    "my_fun(4)"
   ]
  },
  {
   "cell_type": "markdown",
   "metadata": {},
   "source": [
    "## Exercise EX6: Bitonic\n",
    "\n",
    "A bitonic sequence is a list of values such that they are always increasing up to some unknown position $i$, and then they are decreasing up to the end. Write a function named `my_fun` that given a bitonic list `L` returns the largest element by using a binary search strategy.\n",
    "\n",
    "*Example:*\n",
    "```python\n",
    "L = [0,1,2,3,4,5,6,4,2,0]\n",
    "print ( my_fun(L) ) \n",
    "6\n",
    "```"
   ]
  },
  {
   "cell_type": "code",
   "execution_count": 4,
   "metadata": {},
   "outputs": [
    {
     "name": "stdout",
     "output_type": "stream",
     "text": [
      "6\n"
     ]
    }
   ],
   "source": [
    "def my_fun(L):\n",
    "    largest = L[0]\n",
    "    start = 1\n",
    "    end   = len(L)-1\n",
    "    while start<=end:\n",
    "        mid   = (start + end) // 2\n",
    "        \n",
    "        if L[mid]>largest: # check largest\n",
    "            largest = L[mid]\n",
    "            \n",
    "        if L[mid]>L[mid-1]: # largest is to the right\n",
    "            start = mid+1\n",
    "        else:\n",
    "            end = mid-1\n",
    "    \n",
    "    return largest\n",
    "\n",
    "L = [0,1,2,3,4,5,6,4,2,0]\n",
    "print ( my_fun(L) )   "
   ]
  },
  {
   "cell_type": "code",
   "execution_count": null,
   "metadata": {},
   "outputs": [],
   "source": []
  }
 ],
 "metadata": {
  "kernelspec": {
   "display_name": "Python 3",
   "language": "python",
   "name": "python3"
  },
  "language_info": {
   "codemirror_mode": {
    "name": "ipython",
    "version": 3
   },
   "file_extension": ".py",
   "mimetype": "text/x-python",
   "name": "python",
   "nbconvert_exporter": "python",
   "pygments_lexer": "ipython3",
   "version": "3.6.3"
  }
 },
 "nbformat": 4,
 "nbformat_minor": 2
}
