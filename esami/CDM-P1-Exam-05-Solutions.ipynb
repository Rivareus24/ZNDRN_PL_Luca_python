{
 "cells": [
  {
   "cell_type": "markdown",
   "metadata": {},
   "source": [
    "# § Intro to Coding and Data Management (Part I) §\n",
    "\n",
    "### January 17, 2019\n",
    "\n",
    "# Student First/Last Name: \n",
    "\n",
    "# Student ID:\n",
    "\n",
    "\n",
    "### Exam Description\n",
    "\n",
    "Immediately write your First & Last Name, student ID on each paper, and sign them. You have to return all of them.\n",
    "\n",
    "You have 2 hours to complete the exam.\n",
    "\n",
    "The exam includes 7 exercises (worth 15 points in total).\n",
    "\n",
    "For each exercise, provide the Python code implementing the requested function.\n",
    "Please include comments in your code so as to explain the meaning of each operation.\n",
    "If appropriate, include a short textual description of the algorithm implemented."
   ]
  },
  {
   "cell_type": "markdown",
   "metadata": {},
   "source": [
    "## Exercise EX1: Build List\n",
    "\n",
    "Write a function named `my_fun` that given a number `n` returns a list with the even numbers between `1` and `n` (inclusive).\n",
    "\n",
    "*Example:*\n",
    "```python \n",
    "print ( my_fun(16) )   \n",
    "[2, 4, 6, 8, 10, 12, 14, 16]\n",
    "```"
   ]
  },
  {
   "cell_type": "code",
   "execution_count": 2,
   "metadata": {},
   "outputs": [
    {
     "name": "stdout",
     "output_type": "stream",
     "text": [
      "[2, 4, 6, 8, 10, 12, 14, 16]\n"
     ]
    }
   ],
   "source": [
    "def my_fun(n):\n",
    "    L = [i for i in range(2,n+1,2)]\n",
    "    return L\n",
    "\n",
    "print ( my_fun(16) )"
   ]
  },
  {
   "cell_type": "markdown",
   "metadata": {},
   "source": [
    "## Exercise EX2: Dictionary\n",
    "\n",
    "Write a function named `my_fun` that given a dictionary `D` having strings as keys and integers as values, it returns a sub-dictionary of `D` containing only those key-value pairs in `D` for which the value is even.\n",
    "\n",
    "*Example:*\n",
    "```python \n",
    "D = {'Lorem':1, 'ipsum':2, 'dolor':5, \n",
    "     'sit':8, 'amet':1, 'consectetur':7, \n",
    "     'adipiscing':6, 'elit':4}\n",
    "print ( my_fun(D) )    \n",
    "{'ipsum': 2, 'sit': 8, 'adipiscing': 6, 'elit': 4}\n",
    "```"
   ]
  },
  {
   "cell_type": "code",
   "execution_count": 3,
   "metadata": {},
   "outputs": [
    {
     "name": "stdout",
     "output_type": "stream",
     "text": [
      "{'ipsum': 2, 'sit': 8, 'adipiscing': 6, 'elit': 4}\n"
     ]
    }
   ],
   "source": [
    "def my_fun(D):\n",
    "    DD = { k:v  for k,v in D.items() if v%2==0 }\n",
    "    return DD\n",
    "\n",
    "D = {'Lorem':1, 'ipsum':2, 'dolor':5, \n",
    "     'sit':8, 'amet':1, 'consectetur':7, \n",
    "     'adipiscing':6, 'elit':4}\n",
    "\n",
    "print ( my_fun(D) )    \n"
   ]
  },
  {
   "cell_type": "markdown",
   "metadata": {},
   "source": [
    "## Exercise EX3: Large Errors\n",
    "\n",
    "We are given two lists of integer values `A`, `B` (of the same length) and an integer threshold `t`. \n",
    "Write a function named `my_fun` that given the two lists `A` and `B`, it returns the number of times \n",
    "two elements in the same position of `A` and `B` have a difference larger than 't'.\n",
    "\n",
    "\n",
    "*Example:*\n",
    "```python \n",
    "A = [25, 26, 28, 31, 34, 25]\n",
    "B = [26, 27, 33, 27, 28, 29]\n",
    "\n",
    "print (my_fun(A,B,4))\n",
    "2  # because 28/33=-5 and 34-28=6\n",
    "   # in the 3rd and 5th element of the lists\n",
    "```"
   ]
  },
  {
   "cell_type": "code",
   "execution_count": 5,
   "metadata": {},
   "outputs": [
    {
     "name": "stdout",
     "output_type": "stream",
     "text": [
      "2\n"
     ]
    }
   ],
   "source": [
    "def my_fun(A,B, t):\n",
    "    greater = [1 for i in range(len(A)) if abs(A[i]-B[i])>t]\n",
    "    return len(greater)\n",
    "\n",
    "A = [25, 26, 28, 31, 34, 25]\n",
    "B = [26, 27, 33, 27, 28, 29]\n",
    "\n",
    "print (my_fun(A,B,4))\n"
   ]
  },
  {
   "cell_type": "markdown",
   "metadata": {},
   "source": [
    "## Exercise EX4: Outliers\n",
    "\n",
    "Given a list of values `A` we want to compute its average after discarding outliers, i.e., extremely large or extremely small values. \n",
    "Write a function named `my_fun` that given a list `A`, it first removes the 10% largest values and the 10% smallest values, and then it returns the average of the remaining elements.\n",
    "\n",
    "*Example:*\n",
    "```python \n",
    "A = [6,7,8,9,100,-100,2,3,4,5]\n",
    "\n",
    "print (my_fun(A))\n",
    "5.5  # avg of [6,7,8,9,2,3,4,5]\n",
    "```"
   ]
  },
  {
   "cell_type": "code",
   "execution_count": 20,
   "metadata": {},
   "outputs": [
    {
     "name": "stdout",
     "output_type": "stream",
     "text": [
      "5.5\n"
     ]
    }
   ],
   "source": [
    "def my_fun(A):\n",
    "    skip_size = len(A) // 10\n",
    "    A_sorted = sorted(A)\n",
    "    A_filtered = A_sorted[skip_size:len(A_sorted)-skip_size]\n",
    "    average = sum(A_filtered)/len(A_filtered)\n",
    "    return average\n",
    "\n",
    "A = [6,7,8,9,100,-100,2,3,4,5]\n",
    "\n",
    "print (my_fun(A))"
   ]
  },
  {
   "cell_type": "markdown",
   "metadata": {},
   "source": [
    "## Exercise EX5: Bitonic\n",
    "\n",
    "We say that a list `L` of length $\\geq3$ is bitonic if its first part (of any lenght) is increasing and the remaining part is decreasing.\n",
    "\n",
    "    [1,2,3,4,5,4,3,2,1]  # is bitonic\n",
    "    [10,100,90,50,30,20] # is bitonic\n",
    "    [1,3,5,3,1,3,5,3,1]  # is not bitonic\n",
    "\n",
    "Write a function named `my_fun` that given a list of integers `L` \n",
    "returns `True` and if `L` is bitonic and `False` otherwhise.\n",
    "\n",
    "*Example:*\n",
    "```python\n",
    "print( my_fun([1,2,3,4,5,4,3,2,1]) )\n",
    "print( my_fun([10,100,90,50,30,20]) )\n",
    "print( my_fun([1,3,5,3,1,3,5,3,1]) )\n",
    "True\n",
    "True\n",
    "False\n",
    "```"
   ]
  },
  {
   "cell_type": "code",
   "execution_count": 25,
   "metadata": {},
   "outputs": [
    {
     "name": "stdout",
     "output_type": "stream",
     "text": [
      "True\n",
      "True\n",
      "False\n"
     ]
    }
   ],
   "source": [
    "def my_fun(L):\n",
    "    if len(L)<3: return False\n",
    "    \n",
    "    n_up = 0\n",
    "    n_down = 0\n",
    "    \n",
    "    for i in range(0, len(L)-1):\n",
    "        if L[i+1]>L[i]:\n",
    "            n_up += 1\n",
    "        else: \n",
    "            break\n",
    "    \n",
    "    for i in range(len(L)-1,0,-1):\n",
    "        if L[i-1]>L[i]:\n",
    "            n_down += 1\n",
    "        else: \n",
    "            break\n",
    "    \n",
    "    return (n_up+n_down)==len(L)-1\n",
    "\n",
    "print( my_fun([1,2,3,4,5,4,3,2,1]) )\n",
    "print( my_fun([10,100,90,50,30,20]) )\n",
    "print( my_fun([1,3,5,3,1,3,5,3,1]) )"
   ]
  },
  {
   "cell_type": "markdown",
   "metadata": {},
   "source": [
    "## Exercise EX6: Mirrored sequence\n",
    "\n",
    "Given the following sequence of strings\n",
    "\n",
    "    1: o\n",
    "    2: xxoxx\n",
    "    3: oooxxoxxooo\n",
    "    4: xxxxoooxxoxxoooxxxx\n",
    "\n",
    "\n",
    "Write a function named `my_fun` that given a integer `n` (with `n>1`), \n",
    "it returns the string in the `n`-th position of the sequence\n",
    "\n",
    "*Example:*    \n",
    "```python\n",
    "    my_fun(5)\n",
    "```\n",
    "    oooooxxxxoooxxoxxoooxxxxooooo\n"
   ]
  },
  {
   "cell_type": "code",
   "execution_count": 31,
   "metadata": {},
   "outputs": [
    {
     "data": {
      "text/plain": [
       "'oooooxxxxoooxxoxxoooxxxxooooo'"
      ]
     },
     "execution_count": 31,
     "metadata": {},
     "output_type": "execute_result"
    }
   ],
   "source": [
    "def my_fun(n):\n",
    "    \n",
    "    if n<=0: return None\n",
    "    \n",
    "    colors = \"xo\"\n",
    "    \n",
    "    s = \"\"\n",
    "    for i in range(1,n+1):\n",
    "        s += colors[i%2]*i\n",
    "    \n",
    "    s = s[:0:-1] + s\n",
    "    \n",
    "    return s\n",
    "\n",
    "my_fun(5)"
   ]
  },
  {
   "cell_type": "markdown",
   "metadata": {},
   "source": [
    "## Exercise EX7: Contiguous Subset Sum\n",
    "\n",
    "Write a function `my_fun`, that, given a list of integers `L` (both positive and negative), computes sublist of consecutive elements of `L` having the largest sum, and it returns such sum.\n",
    "\n",
    "*Example:*\n",
    "```python\n",
    "L = [5,-4,3,2,-1,0,1,2,-3]\n",
    "print ( my_fun(L) )\n",
    "8  # because of the sublist [3,2,-1,0,1,2]\n",
    "```"
   ]
  },
  {
   "cell_type": "code",
   "execution_count": 42,
   "metadata": {},
   "outputs": [
    {
     "name": "stdout",
     "output_type": "stream",
     "text": [
      "8\n"
     ]
    }
   ],
   "source": [
    "def my_fun(L):\n",
    "    if len(L)==0: return 0\n",
    "    \n",
    "    largest_sum = L[0]\n",
    "    \n",
    "    for i in range(len(L)-1):\n",
    "        for j in range( i, len(L) ):\n",
    "            ij_sum = sum(L[i:j+1]) # include j\n",
    "            largest_sum = max(ij_sum, largest_sum)\n",
    "    \n",
    "    return largest_sum\n",
    "\n",
    "L = [5,-4,3,2,-1,0,1,2,-3]\n",
    "print ( my_fun(L) )   "
   ]
  }
 ],
 "metadata": {
  "kernelspec": {
   "display_name": "Python 3",
   "language": "python",
   "name": "python3"
  },
  "language_info": {
   "codemirror_mode": {
    "name": "ipython",
    "version": 3
   },
   "file_extension": ".py",
   "mimetype": "text/x-python",
   "name": "python",
   "nbconvert_exporter": "python",
   "pygments_lexer": "ipython3",
   "version": "3.6.5"
  }
 },
 "nbformat": 4,
 "nbformat_minor": 2
}
