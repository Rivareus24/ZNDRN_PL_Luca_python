{
 "cells": [
  {
   "cell_type": "markdown",
   "metadata": {},
   "source": [
    "# § Intro to Coding and Data Management (Part I) §\n",
    "\n",
    "### June 7, 2018\n",
    "\n",
    "# Student First/Last Name: \n",
    "\n",
    "# Student ID:\n",
    "\n",
    "\n",
    "### Exam Description\n",
    "\n",
    "Immediately write your First & Last Name, student ID on each paper, and sign them. You have to return all of them.\n",
    "\n",
    "You have 2 hours to complete the exam.\n",
    "\n",
    "The exam includes 3 questions (worth 3 points) and 6 exercises (worth 12 points).\n",
    "\n",
    "For each question, write down the single operations leading to the result (e.g., 1+3+5+7+9=25).\n",
    "\n",
    "For each exercise, provide the Python code implementing the requested function.\n",
    "Please include comments in your code so as to explain the meaning of each operation.\n",
    "If appropriate, include a short textual description of the algorithm implemented."
   ]
  },
  {
   "cell_type": "markdown",
   "metadata": {},
   "source": [
    "## Question Q1: What is the output of this code?\n",
    "\n",
    "```Python\n",
    "L = [0, 1, 2, 3, 4, 6, 7, 8, 9, 10]\n",
    "sum = 0\n",
    "for i in range(1,5):\n",
    "    sum += L[i]\n",
    "print(sum)\n",
    "\n",
    "```"
   ]
  },
  {
   "cell_type": "code",
   "execution_count": 9,
   "metadata": {},
   "outputs": [
    {
     "name": "stdout",
     "output_type": "stream",
     "text": [
      "10\n"
     ]
    }
   ],
   "source": [
    "L = [0, 1, 2, 3, 4, 6, 7, 8, 9, 10]\n",
    "sum = 0\n",
    "for i in range(1,5):\n",
    "    sum += L[i]\n",
    "print(sum)"
   ]
  },
  {
   "cell_type": "markdown",
   "metadata": {},
   "source": [
    "## Question Q2: What is the output of this code?\n",
    "\n",
    "```Python\n",
    "L1 = [1, 2, 3, 4, 5, 6, 5, 4, 3, 2, 1]\n",
    "\n",
    "sum = 0\n",
    "i = 11\n",
    "while i >= 7:\n",
    "    i = i - 1\n",
    "    sum += L1[i]\n",
    "print(sum)\n",
    "```"
   ]
  },
  {
   "cell_type": "code",
   "execution_count": 10,
   "metadata": {},
   "outputs": [
    {
     "name": "stdout",
     "output_type": "stream",
     "text": [
      "15\n"
     ]
    }
   ],
   "source": [
    "L1 = [1, 2, 3, 4, 5, 6, 5, 4, 3, 2, 1]\n",
    "\n",
    "sum = 0\n",
    "i = 11\n",
    "while i >= 7:\n",
    "    i = i - 1\n",
    "    sum += L1[i]\n",
    "print(sum)"
   ]
  },
  {
   "cell_type": "markdown",
   "metadata": {},
   "source": [
    "## Question Q3: What is the output of this code?\n",
    "\n",
    "```Python\n",
    "L = [1, 2, 3, 4, 5, 6, 5, 4, 3, 2, 1]\n",
    "cnt = 0\n",
    "sum = 0\n",
    "for i in range(7):\n",
    "    if i%2 == 0:\n",
    "        sum += i\n",
    "        continue\n",
    "    for elem in L:\n",
    "        cnt +=1\n",
    "        if elem%2 == 1:\n",
    "            sum += elem\n",
    "print('cnt =',cnt)\n",
    "print('sum =',sum)\n",
    "```"
   ]
  },
  {
   "cell_type": "code",
   "execution_count": 11,
   "metadata": {},
   "outputs": [
    {
     "name": "stdout",
     "output_type": "stream",
     "text": [
      "cnt = 33\n",
      "sum = 66\n"
     ]
    }
   ],
   "source": [
    "L = [1, 2, 3, 4, 5, 6, 5, 4, 3, 2, 1]\n",
    "cnt = 0\n",
    "sum = 0\n",
    "for i in range(7):\n",
    "    if i%2 == 0:\n",
    "        sum += i\n",
    "        continue\n",
    "    for elem in L:\n",
    "        cnt +=1\n",
    "        if elem%2 == 1:\n",
    "            sum += elem\n",
    "print('cnt =',cnt)\n",
    "print('sum =',sum)"
   ]
  },
  {
   "cell_type": "markdown",
   "metadata": {},
   "source": [
    "## Exercise EX1: sub-dictionary\n",
    "\n",
    "Write a function named `my_fun` that given a dictionary `D` \n",
    "having strings as keys and integers as values, it returns a sub-dictionary of `D`\n",
    " containing only key-value pairs where the value is larger than 77.\n",
    "\n",
    "*Example:*\n",
    "```python \n",
    "    D = {'Lorem':10, 'ipsum':20, 'dolor':50, \n",
    "         'sit':80, 'amet':100, 'consectetur':70, \n",
    "         'adipiscing':60, 'elit':40}\n",
    "    print ( my_fun(D) )    \n",
    "    {'sit': 80, 'amet': 100}\n",
    "```"
   ]
  },
  {
   "cell_type": "code",
   "execution_count": 10,
   "metadata": {},
   "outputs": [
    {
     "name": "stdout",
     "output_type": "stream",
     "text": [
      "{'sit': 80, 'amet': 100}\n"
     ]
    }
   ],
   "source": [
    "def my_fun(D):\n",
    "    new_D = {k:v for k,v in D.items() if v>77}\n",
    "    return new_D\n",
    "\n",
    "D = {'Lorem':10, 'ipsum':20, 'dolor':50, \n",
    "     'sit':80, 'amet':100, 'consectetur':70, \n",
    "     'adipiscing':60, 'elit':40}\n",
    "print ( my_fun(D) )  "
   ]
  },
  {
   "cell_type": "markdown",
   "metadata": {},
   "source": [
    "## Exercise EX2: Min Gain\n",
    "\n",
    "Let `A` and `B` be two a lists storing respectively \n",
    "the number of clips sold each day by company `Clippers`\n",
    " and the price of a single clip for the corresponding day.\n",
    "  Write a function `my_fun` that given `A` and `B` returns the day\n",
    "   (index of the list) where the revenue \n",
    "   (computed as number of clips $\\times$ price) was minimum.\n",
    "\n",
    "*Example:*\n",
    "```python \n",
    "    A = [10, 12, 25]\n",
    "    B = [1.1, 0.8, 0.6]\n",
    "    print ( my_fun(A,B) ) \n",
    "    1\n",
    "    # because 10*1.1 > 12*0.8 and 12*0.8 < 25*0.6\n",
    "```"
   ]
  },
  {
   "cell_type": "code",
   "execution_count": 5,
   "metadata": {},
   "outputs": [
    {
     "name": "stdout",
     "output_type": "stream",
     "text": [
      "1\n"
     ]
    }
   ],
   "source": [
    "def my_fun(A, B):\n",
    "    min_gain = A[0] * B[0]\n",
    "    min_day = 0\n",
    "    for i in range(1,len(A)):\n",
    "        gain = A[i] * B[i]\n",
    "        if gain < min_gain:\n",
    "            min_gain = gain\n",
    "            min_day = i\n",
    "    return min_day\n",
    "\n",
    "A = [10, 12, 25]\n",
    "B = [1.1,  0.8, 0.6]\n",
    "print ( my_fun(A,B) ) \n",
    "\n",
    "# def range(start=0, stop, step=1):\n",
    "# range(3)  # --> 0 1 2\n",
    "# range(1, 5)  # --> 1 2 3 4\n",
    "# range(1, 10, 2)  # --> 1 3 5 7 9\n",
    "\n",
    "def my_func(list1, list2):\n",
    "    gains = []\n",
    "    # for x in range(len(list1)):\n",
    "    for x, y in zip(list1, list2):\n",
    "        gains.append(x * y)\n",
    "\n",
    "    min_gain = min(gains)\n",
    "\n",
    "    return gains.index(min_gain)  # indice del giorno"
   ]
  },
  {
   "cell_type": "markdown",
   "metadata": {},
   "source": [
    "## Exercise EX3: restaurants within range\n",
    "\n",
    "We are given the location of the current user as a list of \n",
    "two coordinates $u=[x,y]$, and a list $R$ of restaurants locations,\n",
    " each being a list of two coordinates.\n",
    "\n",
    "Write a function named `my_fun` that given the user location $u$ \n",
    "and the restaurants locations list $R$ returns the number of \n",
    "restaurants at a distance smaller than 3. \n",
    "\n",
    "*Recall: Euclidean distance between two points A and B \n",
    "is computed as:*\n",
    "$$\n",
    "\\text{dist}(x_A, y_A, x_B, y_B) = \\sqrt{ (x_A-x_B)^2 + (y_A-y_B)^2}\n",
    "$$\n",
    "\n",
    "*Example:*\n",
    "```python \n",
    "    u = [3,3]\n",
    "    R = [ [5,7], [4,8], [2,3], [1,4] ]\n",
    "    print ( my_fun(u,R) )\n",
    "    2\n",
    "    # because only the last two restaurats are close enough\n",
    "```"
   ]
  },
  {
   "cell_type": "code",
   "execution_count": 23,
   "metadata": {},
   "outputs": [
    {
     "name": "stdout",
     "output_type": "stream",
     "text": [
      "2\n"
     ]
    }
   ],
   "source": [
    "def my_fun(u,R):\n",
    "    n_r = 0\n",
    "    for r in R:\n",
    "        dist = ( (u[0]-r[0])**2.0 + (u[1]-r[1])**2.0 ) **0.5\n",
    "        if dist<3:\n",
    "            n_r += 1\n",
    "    return n_r\n",
    "\n",
    "def my_fun(user, restaurant):\n",
    "    def get_distance(_u, _r):\n",
    "        x_u, y_u = _u\n",
    "        x_r, y_r = _r\n",
    "        return ((x_u - x_r) ** 2 + (y_u - y_r) ** 2) ** 1 / 2\n",
    "\n",
    "    counter = 0\n",
    "    for r in restaurant:\n",
    "        if get_distance(user, r) < 3:\n",
    "            counter += 1\n",
    "\n",
    "    return counter  # #restaurants at a distance < 3\n",
    "\n",
    "u = [3,3]\n",
    "R = [ [5,7], [4,8], [2,3], [1,4] ]\n",
    "print ( my_fun(u,R) )"
   ]
  },
  {
   "cell_type": "markdown",
   "metadata": {},
   "source": [
    "## Exercise EX4: cartesian product\n",
    "\n",
    "Write a function named `my_fun` that given two lists \n",
    "of integer values `L1` and `L2`, returns a new list \n",
    "containing each possible pair of elements where the first \n",
    "element is in `L1` and the second is in `L2`. \n",
    "*(Assume both are not empty)*\n",
    "\n",
    "\n",
    "*Example:*\n",
    "```python \n",
    "    print ( my_fun([1,2], [7,1]) )    \n",
    "    [ [1,7], [1,1], [2,7], [2,1] ]\n",
    "```"
   ]
  },
  {
   "cell_type": "code",
   "execution_count": 27,
   "metadata": {},
   "outputs": [
    {
     "name": "stdout",
     "output_type": "stream",
     "text": [
      "[[1, 7], [1, 1], [2, 7], [2, 1]]\n"
     ]
    }
   ],
   "source": [
    "def my_fun(L1, L2):\n",
    "    new_L = []\n",
    "    for x in L1:\n",
    "        for y in L2:\n",
    "            new_L += [ [x,y] ]\n",
    "    return new_L\n",
    "\n",
    "def my_fun(l1, l2):\n",
    "    return [[x, y]\n",
    "            for x in l1 \n",
    "            for y in l2]\n",
    "    \n",
    "    # return [[x, y]\n",
    "    #         for x, y in zip(l1, l2)]\n",
    "    \n",
    "    # result = []\n",
    "    # for x in l1:\n",
    "    #     for y in l2:\n",
    "    #         result.append([x, y])\n",
    "    # return result\n",
    "\n",
    "\n",
    "# [1, 2, 3, 4].append(5)   --> [1, 2, 3, 4, 5]\n",
    "# [1, 2, 3, 4].extend([5]) --> [1, 2, 3, 4, 5]\n",
    "# [1, 2, 3, 4].append([5]) --> [1, 2, 3, 4, [5]]\n",
    "\n",
    "print ( my_fun([1,2], [7,1]) )"
   ]
  },
  {
   "cell_type": "markdown",
   "metadata": {},
   "source": [
    "## EX5: magic sequence\n",
    "\n",
    "The magic sequence is defined as follows.\n",
    "\n",
    "Each element of the magic sequence is a sequence \n",
    "of integers that starts and ends with a 1.\n",
    "\n",
    "Each element is obtained by first summing adjacent elements\n",
    " of the previous sequence,\n",
    "and then by inserting a 1 at the beginning and at the end\n",
    " obtained list.\n",
    "\n",
    "The first four elements of the magic sequence are as follows:\n",
    "\n",
    "    1st:          1   1\n",
    "                   \\+/\n",
    "    2nd:        1   2   1\n",
    "                 \\+/ \\+/\n",
    "    3rd:      1   3   3   1\n",
    "               \\+/ \\+/ \\+/\n",
    "    4th:    1   4   6   4   1\n",
    "\n",
    "Write a function named `my_fun` that given an integer `n` returns the list of integers corresponding to the `n`-th element of the magic sequence.\n",
    "\n",
    "*Example:*\n",
    "```python \n",
    "    print ( my_fun(1) )    \n",
    "    [1, 1]\n",
    "    print ( my_fun(3) )    \n",
    "    [1, 3, 3, 1]\n",
    "```"
   ]
  },
  {
   "cell_type": "code",
   "execution_count": 1,
   "metadata": {
    "pycharm": {
     "is_executing": false
    }
   },
   "outputs": [
    {
     "name": "stdout",
     "text": [
      "[1, 1]\n",
      "[1, 3, 3, 1]\n",
      "[1, 4, 6, 4, 1]\n"
     ],
     "output_type": "stream"
    }
   ],
   "source": [
    "def my_fun(n):\n",
    "    magic = []\n",
    "    for i in range(n):\n",
    "        new_magic = []\n",
    "        for j in range(len(magic)-1):\n",
    "            new_magic += [magic[j]+magic[j+1]]\n",
    "        magic = [1] + new_magic + [1]\n",
    "    return magic\n",
    "\n",
    "print ( my_fun(1) )\n",
    "print ( my_fun(3) )\n",
    "print ( my_fun(4) )"
   ]
  },
  {
   "cell_type": "markdown",
   "metadata": {},
   "source": [
    "## Exercise EX6: in the middle of s\n",
    "\n",
    "Let `s` be a string made only of 0s and 1s.\n",
    "Our goal is to find the position `i` such that\n",
    " the number of 1s in `s` up to position `i` (included) \n",
    " is equal to the number of 1s from position `i+1` to the end of `s`.\n",
    "\n",
    "Write a function `my_fun` that given a string `s` uses a binary search strategy to return the position `i` as defined above if it exists and `None` otherwise.\n",
    "\n",
    "\n",
    "*Example:*\n",
    "```python \n",
    "print ( my_fun(\"101\") )    \n",
    "0 # because 1 | 01\n",
    "print ( my_fun(\"1000\") ) \n",
    "None # there is no solution\n",
    "print ( my_fun(\"110001111\") ) \n",
    "5 # because 110001 | 111\n",
    "``` "
   ]
  },
  {
   "cell_type": "code",
   "execution_count": 12,
   "metadata": {},
   "outputs": [
    {
     "name": "stdout",
     "output_type": "stream",
     "text": [
      "0\n",
      "None\n",
      "5\n",
      "8\n"
     ]
    }
   ],
   "source": [
    "def my_fun(s):\n",
    "    positions = []\n",
    "    until_i = []\n",
    "    total = 0\n",
    "    for i in range(len(s)):\n",
    "        if s[i]=='1':\n",
    "            total += 1\n",
    "            positions += [i]\n",
    "            until_i   += [total]\n",
    "\n",
    "    start = 0\n",
    "    end   = len(until_i)-1\n",
    "    while start<=end:\n",
    "        mid   = (start + end) // 2\n",
    "        # check mid is what we where looking for\n",
    "        after_i = total-until_i[mid]\n",
    "        if until_i[mid] == after_i:\n",
    "            return positions[mid]\n",
    "        \n",
    "        if until_i[mid]<after_i:\n",
    "            start = mid+1   # move start to the left\n",
    "        else:\n",
    "            end = mid-1     # move end to the right\n",
    "    \n",
    "    return None\n",
    "            \n",
    "print ( my_fun(\"101\") )    \n",
    "print ( my_fun(\"1000\") ) \n",
    "print ( my_fun(\"110001111\") ) \n",
    "print ( my_fun(\"101110101110101011\") )    "
   ]
  },
  {
   "cell_type": "markdown",
   "metadata": {},
   "source": [
    "# §§ Intro to Coding and Data Management (Part I) §§\n",
    "\n",
    "### June 7, 2018\n",
    "\n",
    "# Student First/Last Name: \n",
    "\n",
    "# Student ID:\n",
    "\n",
    "\n",
    "### Exam Description\n",
    "\n",
    "Immediately write your First & Last Name, student ID on each paper, and sign them. You have to return all of them.\n",
    "\n",
    "You have 2 hours to complete the exam.\n",
    "\n",
    "The exam includes 3 questions (worth 3 points) and 6 exercises (worth 12 points).\n",
    "\n",
    "For each question, write down the single operations leading to the result (e.g., 1+3+5+7+9=25).\n",
    "\n",
    "For each exercise, provide the Python code implementing the requested function.\n",
    "Please include comments in your code so as to explain the meaning of each operation.\n",
    "If appropriate, include a short textual description of the algorithm implemented."
   ]
  },
  {
   "cell_type": "markdown",
   "metadata": {},
   "source": [
    "## Question Q1: What is the output of this code?\n",
    "\n",
    "```Python\n",
    "L = [1, 2, 3, 4, 6, 7, 8, 9, 10]\n",
    "sum = 0\n",
    "for i in range(2,8,2):\n",
    "    sum += L[i]\n",
    "print(sum)\n",
    "```"
   ]
  },
  {
   "cell_type": "code",
   "execution_count": 13,
   "metadata": {},
   "outputs": [
    {
     "name": "stdout",
     "output_type": "stream",
     "text": [
      "17\n"
     ]
    }
   ],
   "source": [
    "L = [1, 2, 3, 4, 6, 7, 8, 9, 10]\n",
    "sum = 0\n",
    "for i in range(2,8,2):\n",
    "    sum += L[i]\n",
    "print(sum)"
   ]
  },
  {
   "cell_type": "markdown",
   "metadata": {},
   "source": [
    "## Question Q2: What is the output of this code?\n",
    "\n",
    "```Python\n",
    "L1 = [10, 9, 8, 7, 6, 5, 6, 7, 8, 9, 10]\n",
    "\n",
    "sum = 0\n",
    "i = 9\n",
    "while i >= 6:\n",
    "    sum += L1[1]\n",
    "    i = i - 2\n",
    "print(sum)\n",
    "```"
   ]
  },
  {
   "cell_type": "code",
   "execution_count": 14,
   "metadata": {},
   "outputs": [
    {
     "name": "stdout",
     "output_type": "stream",
     "text": [
      "18\n"
     ]
    }
   ],
   "source": [
    "L1 = [10, 9, 8, 7, 6, 5, 6, 7, 8, 9, 10]\n",
    "\n",
    "sum = 0\n",
    "i = 9\n",
    "while i >= 6:\n",
    "    sum += L1[1]\n",
    "    i = i - 2\n",
    "print(sum)"
   ]
  },
  {
   "cell_type": "markdown",
   "metadata": {},
   "source": [
    "## Question Q3: What is the output of this code?\n",
    "\n",
    "```Python\n",
    "L = [1, 2, 3, 4, 5, 6, 5, 4, 3, 2, 1]\n",
    "\n",
    "cnt = 0\n",
    "sum = 0\n",
    "for i in range(1,6):\n",
    "    if i%3 == 0:\n",
    "        sum += i\n",
    "        continue\n",
    "    for elem in range(len(L)):\n",
    "        cnt +=1\n",
    "        if elem%2 == 1:\n",
    "            sum += elem\n",
    "print('cnt =',cnt)\n",
    "print('sum =',sum)\n",
    "```"
   ]
  },
  {
   "cell_type": "code",
   "execution_count": 18,
   "metadata": {},
   "outputs": [
    {
     "name": "stdout",
     "output_type": "stream",
     "text": [
      "cnt = 44\n",
      "sum = 103\n"
     ]
    }
   ],
   "source": [
    "L = [1, 2, 3, 4, 5, 6, 5, 4, 3, 2, 1]\n",
    "\n",
    "cnt = 0\n",
    "sum = 0\n",
    "for i in range(1,6):\n",
    "    if i%3 == 0:\n",
    "        sum += i\n",
    "        continue\n",
    "    for elem in range(len(L)):\n",
    "        cnt +=1\n",
    "        if elem%2 == 1:\n",
    "            sum += elem\n",
    "print('cnt =',cnt)\n",
    "print('sum =',sum)"
   ]
  },
  {
   "cell_type": "markdown",
   "metadata": {},
   "source": [
    "## Exercise EX1: sub-dictionary\n",
    "\n",
    "Write a function named `my_fun` that given a dictionary `D` having strings as keys and integers as values, it returns a sub-dictionary of `D` containing only key-value pairs where the value is multiple of 25.\n",
    "\n",
    "*Example:*\n",
    "```python \n",
    "    D = {'Lorem':10, 'ipsum':20, 'dolor':50, \n",
    "         'sit':80, 'amet':100, 'consectetur':70, \n",
    "         'adipiscing':60, 'elit':40}\n",
    "    print ( my_fun(D) )    \n",
    "    {'dolor': 50, 'amet': 100}\n",
    "```"
   ]
  },
  {
   "cell_type": "code",
   "execution_count": 22,
   "metadata": {},
   "outputs": [
    {
     "name": "stdout",
     "output_type": "stream",
     "text": [
      "{'dolor': 50, 'amet': 100}\n"
     ]
    }
   ],
   "source": [
    "def my_fun(D):\n",
    "    new_D = {k:v for k,v in D.items() if v%25==0}\n",
    "    return new_D\n",
    "\n",
    "D = {'Lorem':10, 'ipsum':20, 'dolor':50, \n",
    "     'sit':80, 'amet':100, 'consectetur':70, \n",
    "     'adipiscing':60, 'elit':40}\n",
    "print ( my_fun(D) )  "
   ]
  },
  {
   "cell_type": "markdown",
   "metadata": {},
   "source": [
    "## Exercise EX2: Max Gain\n",
    "\n",
    "Let `A` and `B` be two a lists storing respectively the number of clips sold each day by company `Clippers` and the price of a single clip for the corresponding day. Write a function `my_fun` that given `A` and `B` returns the day (index of the list) where the revenue (computed as number of clips $\\times$ price) was maximum.\n",
    "\n",
    "*Example:*\n",
    "```python \n",
    "    A = [10, 12, 25]\n",
    "    B = [1.1,  0.8, 0.6]\n",
    "    print ( my_fun(A,B) ) \n",
    "    2\n",
    "    # because 25*0.6 > 10*1.1 and 25*0.6 > 12*0.8\n",
    "```"
   ]
  },
  {
   "cell_type": "code",
   "execution_count": 24,
   "metadata": {},
   "outputs": [
    {
     "name": "stdout",
     "output_type": "stream",
     "text": [
      "2\n"
     ]
    }
   ],
   "source": [
    "def my_fun(A, B):\n",
    "    max_gain = A[0] * B[0]\n",
    "    max_day = 0\n",
    "    for i in range(1,len(A)):\n",
    "        gain = A[i] * B[i]\n",
    "        if gain > max_gain:\n",
    "            max_gain = gain\n",
    "            max_day = i\n",
    "    return max_day\n",
    "\n",
    "A = [10, 12, 25]\n",
    "B = [1.1,  0.8, 0.6]\n",
    "print ( my_fun(A,B) ) "
   ]
  },
  {
   "cell_type": "markdown",
   "metadata": {},
   "source": [
    "## Exercise EX3: closest restaurant\n",
    "\n",
    "We are given the location of the current user as a list of two coordinates $u=[x,y]$, and a list $R$ of restaurants locations, each being a list of two coordinates.\n",
    "\n",
    "Write a function named `my_fun` that given the user location $u$ and the restaurants' locations list $R$ returns the index in $R$ of the closest restaurant. *(Assume $R$ is not empty)*\n",
    "\n",
    "*Recall: Euclidean distance between two points A and B is computed as:*\n",
    "$$\n",
    "\\text{dist}(x_A, y_A, x_B, y_B) = \\sqrt{ (x_A-x_B)^2 + (y_A-y_B)^2}\n",
    "$$\n",
    "\n",
    "*Example:*\n",
    "```python \n",
    "    u = [3,3]\n",
    "    R = [ [5,7], [4,8], [2,3], [1,4] ]\n",
    "    print ( my_fun(u,R) )\n",
    "    2\n",
    "    # because restaurat at [2,3] is the closest\n",
    "```"
   ]
  },
  {
   "cell_type": "code",
   "execution_count": 27,
   "metadata": {},
   "outputs": [
    {
     "name": "stdout",
     "output_type": "stream",
     "text": [
      "2\n"
     ]
    }
   ],
   "source": [
    "def my_fun(u,R):\n",
    "    min_dist = ( (u[0]-R[0][0])**2.0 + (u[1]-R[0][1])**2.0 ) **0.5\n",
    "    closest = 0\n",
    "    for r in range(1,len(R)):\n",
    "        dist = ( (u[0]-R[r][0])**2.0 + (u[1]-R[r][1])**2.0 ) **0.5\n",
    "        if dist<min_dist:\n",
    "            closest = r\n",
    "            min_dist = dist\n",
    "    return closest\n",
    "\n",
    "u = [3,3]\n",
    "R = [ [5,7], [4,8], [2,3], [1,4] ]\n",
    "print ( my_fun(u,R) )"
   ]
  },
  {
   "cell_type": "markdown",
   "metadata": {},
   "source": [
    "## Exercise EX4: cartesian string product\n",
    "\n",
    "Write a function named `my_fun` that given two lists of strings `L1` and `L2`, returns a new list containing each possible concatenation of  elements in `L1` with elements in `L2`. *(Assume both are non-empty)*\n",
    "\n",
    "\n",
    "*Example:*\n",
    "```python \n",
    "    print ( my_fun(['pre-','post-'], ['fix','exam']) )    \n",
    "    ['pre-fix', 'pre-exam', 'post-fix', 'post-exam']\n",
    "```"
   ]
  },
  {
   "cell_type": "code",
   "execution_count": 28,
   "metadata": {},
   "outputs": [
    {
     "name": "stdout",
     "output_type": "stream",
     "text": [
      "['pre-fix', 'pre-exam', 'post-fix', 'post-exam']\n"
     ]
    }
   ],
   "source": [
    "def my_fun(L1, L2):\n",
    "    new_L = []\n",
    "    for x in L1:\n",
    "        for y in L2:\n",
    "            new_L += [ x+y ]\n",
    "    return new_L\n",
    "\n",
    "print ( my_fun(['pre-','post-'], ['fix','exam']) )"
   ]
  },
  {
   "cell_type": "markdown",
   "metadata": {},
   "source": [
    "## EX5: magic sequence\n",
    "\n",
    "The magic sequence is defined as follows.\n",
    "\n",
    "Each element of the magic sequence is a sequence of integers that starts and ends with a 1.\n",
    "\n",
    "Each element is obtained by first summing adjacent elements of the previous sequence,\n",
    "and then by inserting a 1 at the beginning and at the end obtained list.\n",
    "\n",
    "The first four elements of the magic sequence are as follows:\n",
    "\n",
    "    1st:          1   1\n",
    "                   \\+/\n",
    "    2nd:        1   2   1\n",
    "                 \\+/ \\+/\n",
    "    3rd:      1   3   3   1\n",
    "               \\+/ \\+/ \\+/\n",
    "    4th:    1   4   6   4   1\n",
    "\n",
    "Write a function named `my_fun` that given an integer `n` returns the list of integers corresponding to the `n`-th element of the magic sequence.\n",
    "\n",
    "*Example:*\n",
    "```python \n",
    "    print ( my_fun(1) )    \n",
    "    [1, 1]\n",
    "    print ( my_fun(3) )    \n",
    "    [1, 3, 3, 1]\n",
    "```"
   ]
  },
  {
   "cell_type": "code",
   "execution_count": 5,
   "metadata": {},
   "outputs": [
    {
     "name": "stdout",
     "output_type": "stream",
     "text": [
      "[1, 1]\n",
      "[1, 3, 3, 1]\n",
      "[1, 4, 6, 4, 1]\n"
     ]
    }
   ],
   "source": [
    "def my_fun(n):\n",
    "    magic = []\n",
    "    for i in range(n):\n",
    "        new_magic = []\n",
    "        for j in range(len(magic)-1):\n",
    "            new_magic += [magic[j]+magic[j+1]]\n",
    "        magic = [1] + new_magic + [1]\n",
    "    return magic\n",
    "\n",
    "print ( my_fun(1) )\n",
    "print ( my_fun(3) )\n",
    "print ( my_fun(4) )"
   ]
  },
  {
   "cell_type": "markdown",
   "metadata": {},
   "source": [
    "## Exercise EX6: in the middle of s\n",
    "\n",
    "Let `s` be a string made only of 0s and 1s.\n",
    "Our goal is to find the position `i` such that the number of 1s in `s` up to position `i` (included) is twice the number of 1s from position `i+1` to the end of `s`.\n",
    "\n",
    "Write a function `my_fun` that given a string `s` uses a binary search strategy to return the position `i` as defined above if it exists and `None` otherwise.\n",
    "\n",
    "\n",
    "*Example:*\n",
    "```python \n",
    "print ( my_fun(\"1101\") )    \n",
    "1 # because 11 | 01\n",
    "print ( my_fun(\"1000\") ) \n",
    "None # there is no solution\n",
    "print ( my_fun(\"110001111\") ) \n",
    "6 # because 1100011 | 11\n",
    "``` "
   ]
  },
  {
   "cell_type": "code",
   "execution_count": 33,
   "metadata": {},
   "outputs": [
    {
     "name": "stdout",
     "output_type": "stream",
     "text": [
      "1\n",
      "None\n",
      "6\n",
      "10\n"
     ]
    }
   ],
   "source": [
    "def my_fun(s):\n",
    "    positions = []\n",
    "    until_i = []\n",
    "    total = 0\n",
    "    for i in range(len(s)):\n",
    "        if s[i]=='1':\n",
    "            total += 1\n",
    "            positions += [i]\n",
    "            until_i   += [total]\n",
    "\n",
    "    start = 0\n",
    "    end   = len(until_i)-1\n",
    "    while start<=end:\n",
    "        mid   = (start + end) // 2\n",
    "        # check mid is what we where looking for\n",
    "        after_i = total-until_i[mid]\n",
    "        if until_i[mid] == 2*after_i:\n",
    "            return positions[mid]\n",
    "        \n",
    "        if until_i[mid]<2*after_i:\n",
    "            start = mid+1   # move start to the left\n",
    "        else:\n",
    "            end = mid-1     # move end to the right\n",
    "    \n",
    "    return None\n",
    "            \n",
    "print ( my_fun(\"1101\") )    \n",
    "print ( my_fun(\"1000\") ) \n",
    "print ( my_fun(\"110001111\") ) \n",
    "print ( my_fun(\"101110101110101011\") )    "
   ]
  }
 ],
 "metadata": {
  "kernelspec": {
   "display_name": "Python 3",
   "language": "python",
   "name": "python3"
  },
  "language_info": {
   "codemirror_mode": {
    "name": "ipython",
    "version": 3
   },
   "file_extension": ".py",
   "mimetype": "text/x-python",
   "name": "python",
   "nbconvert_exporter": "python",
   "pygments_lexer": "ipython3",
   "version": "3.6.3"
  },
  "pycharm": {
   "stem_cell": {
    "cell_type": "raw",
    "source": [],
    "metadata": {
     "collapsed": false
    }
   }
  }
 },
 "nbformat": 4,
 "nbformat_minor": 2
}