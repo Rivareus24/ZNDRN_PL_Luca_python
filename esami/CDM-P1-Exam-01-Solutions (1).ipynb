{
 "cells": [
  {
   "cell_type": "markdown",
   "metadata": {},
   "source": [
    "# § Intro to Coding and Data Management (Part I) §\n",
    "\n",
    "### March 21, 2018\n",
    "\n",
    "# Student First/Last Name: \n",
    "\n",
    "# Student ID:\n",
    "\n",
    "\n",
    "### Exam Description\n",
    "\n",
    "The exam includes 3 questions (worth 3 points) and 5 exercises (worth 9 points).\n",
    "\n",
    "For each question, write down the single operations leading to the result (e.g., 1+3+5+7+9=25).\n",
    "\n",
    "For each exercise, provide the Python code implementing the requested function.\n",
    "Please include comments in your code so as to explain the meaning of each operation.\n",
    "If appropriate, include a short textual description of the algorithm implemented.\n",
    "\n",
    "Immediately write your First & Last Name, student ID on each paper, and sign them. You have to return all of them.\n",
    "\n",
    "You have 2 hours to complete the exam."
   ]
  },
  {
   "cell_type": "markdown",
   "metadata": {},
   "source": [
    "## Question Q1: What is the output of this code?"
   ]
  },
  {
   "cell_type": "code",
   "execution_count": 2,
   "metadata": {},
   "outputs": [
    {
     "name": "stdout",
     "output_type": "stream",
     "text": [
      "22\n"
     ]
    }
   ],
   "source": [
    "L = [1, 2, 3, 4, 5, 6, 7, 8, 9, 10]\n",
    "sum = 0\n",
    "for i in range(3,7):\n",
    "     sum += L[i]\n",
    "print(sum)"
   ]
  },
  {
   "cell_type": "markdown",
   "metadata": {},
   "source": [
    "## Question Q2: What is the output of this code?"
   ]
  },
  {
   "cell_type": "code",
   "execution_count": 3,
   "metadata": {},
   "outputs": [
    {
     "name": "stdout",
     "output_type": "stream",
     "text": [
      "18\n"
     ]
    }
   ],
   "source": [
    "L1 = [1, 2, 3, 4, 5, 6, 7, 8, 9, 10]\n",
    "sum = 0\n",
    "i = 11\n",
    "while i > 7:\n",
    "    i = i - 2\n",
    "    sum += L1[i]\n",
    "print(sum)"
   ]
  },
  {
   "cell_type": "markdown",
   "metadata": {},
   "source": [
    "## Question Q3: What is the output of this code?"
   ]
  },
  {
   "cell_type": "code",
   "execution_count": 4,
   "metadata": {},
   "outputs": [
    {
     "name": "stdout",
     "output_type": "stream",
     "text": [
      "18\n"
     ]
    }
   ],
   "source": [
    "cnt = 0\n",
    "sum = 0\n",
    "for i in range(6):\n",
    "    if i%2 == 1:\n",
    "        sum += i\n",
    "        continue\n",
    "    for j in range(6):\n",
    "        cnt +=1\n",
    "        if j%2 == 0:\n",
    "            sum += j\n",
    "print(cnt)"
   ]
  },
  {
   "cell_type": "markdown",
   "metadata": {},
   "source": [
    "## Exercise EX1: sub-list\n",
    "\n",
    "Write a function named `my_fun` that given a list `L`, returns a new list containing only the elements of `L` that are multiple of 7. * (Assume elements of `L` are integer numbers) *\n",
    "\n",
    "*Example:*\n",
    "```python \n",
    "    L = [13, 21, 24, 1, 3, 7, 14]\n",
    "    print ( my_fun(L) )    \n",
    "    [21, 7, 14]\n",
    "```"
   ]
  },
  {
   "cell_type": "code",
   "execution_count": 6,
   "metadata": {},
   "outputs": [
    {
     "name": "stdout",
     "output_type": "stream",
     "text": [
      "[21, 7, 14]\n"
     ]
    }
   ],
   "source": [
    "def my_fun(L):\n",
    "    return [x \n",
    "            for x in L\n",
    "            if x%7==0]\n",
    "\n",
    "L = [13, 21, 24, 1, 3, 7, 14]\n",
    "print ( my_fun(L) )"
   ]
  },
  {
   "cell_type": "markdown",
   "metadata": {},
   "source": [
    "## Exercise EX2: mean-squared-error\n",
    "\n",
    "We are given a software that produced a list `P` of daily \n",
    "predictions for the Bitcoin exchange rate. For the same days\n",
    " we have the list `T` with the actual exchange rate. We want to\n",
    "  evaluate the accuracy of the prediction.\n",
    "\n",
    "Write a function `my_fun` that given two lists `P` and `T`\n",
    " *(Assume `P` and `T` have the same length, and their elements are floats)* \n",
    " computes the Mean Squared Error (MSE), where MSE of two lists of length $N$\n",
    "  is defined as:\n",
    "$$\n",
    "MSE(T,P) = \\frac{1}{N} \\sum_i \\left( T_i - P_i\\right)^2\n",
    "$$\n",
    "\n",
    "*Example:*\n",
    "```python \n",
    "    T = [1, 3]\n",
    "    P = [1, 5]\n",
    "    print ( my_fun(T,P) )    \n",
    "    2\n",
    "    # because (1/2)*( (1-1)^2 + (3-5)^2 ) = (1/2)*(0+4) = 2\n",
    "```"
   ]
  },
  {
   "cell_type": "code",
   "execution_count": 8,
   "metadata": {},
   "outputs": [
    {
     "name": "stdout",
     "output_type": "stream",
     "text": [
      "2.0\n"
     ]
    }
   ],
   "source": [
    "def my_fun(P,T):\n",
    "    mse = 0.0\n",
    "    for i in range(len(P)):\n",
    "        mse += (T[i]-P[i])**2.0\n",
    "    mse /= len(P)\n",
    "    return mse\n",
    "\n",
    "def my_func(T, P):\n",
    "    \"\"\"P e T have the same length\"\"\"\n",
    "    return sum([(t + p) ** 2\n",
    "                for t, p in zip(T, P)]) / len(P)\n",
    "\n",
    "T = [1, 3]\n",
    "P = [1, 5]\n",
    "print ( my_fun(T,P) ) "
   ]
  },
  {
   "cell_type": "markdown",
   "metadata": {},
   "source": [
    "## Exercise EX3: largest-smaller\n",
    "\n",
    "Write a function named `my_fun` that given a list\n",
    " `L` and an integer `n`, returns the largest \n",
    " element in `L` that is smaller than `n`,\n",
    "  and returns `None` if such element does not exist.\n",
    "   * (Assume elements of `L` are integer numbers) *\n",
    "\n",
    "*Example:*\n",
    "```python \n",
    "    L = [13, 21, 24, 1, 3, 7, 14]\n",
    "    print ( my_fun(L, 22) )    \n",
    "    21\n",
    "```"
   ]
  },
  {
   "cell_type": "code",
   "execution_count": 6,
   "metadata": {},
   "outputs": [
    {
     "name": "stdout",
     "output_type": "stream",
     "text": [
      "21\n"
     ]
    }
   ],
   "source": [
    "def my_fun(L,n):\n",
    "    largest = None\n",
    "    for x in L:\n",
    "        if x<n:\n",
    "            if largest < x:\n",
    "                largest = x\n",
    "    return largest\n",
    "\n",
    "def my_func(L, n):\n",
    "    [2, 5, 8, 9], 2\n",
    "    # tolgo i numeri >= n\n",
    "    my_list = [x for x in L if x < n]\n",
    "    if my_list:\n",
    "        return max(my_list)\n",
    "    # torno il max del resto\n",
    "    return None\n",
    "\n",
    "    # return max(my_list) if my_list else None\n",
    "\n",
    "L = [13, 21, 24, 1, 3, 7, 14]\n",
    "print ( my_fun(L, 22) )"
   ]
  },
  {
   "cell_type": "markdown",
   "metadata": {},
   "source": [
    "## Exercise EX4: anagram\n",
    "\n",
    "Write a function named `my_fun` that given\n",
    " two strings `s` and `t`, returns `True`\n",
    "  if one string is the anagram of the other,\n",
    "   and `False` otherwise. \n",
    "   * (Assume `s` and `t` contain alphabetical \n",
    "   lowercase characters only) *\n",
    "\n",
    "*Example:*\n",
    "```python \n",
    "    print ( my_fun('vowels', 'wolves') )    \n",
    "    True\n",
    "    print ( my_fun('vowels', 'wolf') )    \n",
    "    False\n",
    "```"
   ]
  },
  {
   "cell_type": "code",
   "execution_count": 15,
   "metadata": {},
   "outputs": [
    {
     "name": "stdout",
     "output_type": "stream",
     "text": [
      "True\n",
      "False\n"
     ]
    }
   ],
   "source": [
    "def my_fun(s,t):\n",
    "    return sorted(s)==sorted(t)\n",
    "\n",
    "print ( my_fun('vowels', 'wolves') )    \n",
    "print ( my_fun('vowels', 'wolf') ) "
   ]
  },
  {
   "cell_type": "markdown",
   "metadata": {},
   "source": [
    "## Exercise EX5: equi-spaced\n",
    "\n",
    "Write a function `my_fun` that given \n",
    "a string `msg` made only of the two characters\n",
    " `'o'` and `'x'`, returns the largest `n`\n",
    "  for which there exist `n` equispaced `'x'` \n",
    "  at distance `n` from each other in the\n",
    "   string `msg`.\n",
    "\n",
    "\n",
    "*Example:*\n",
    "```python \n",
    "    print ( my_fun('xox') )    \n",
    "    2 # there are two `x` at distance `x`\n",
    "    print ( my_fun('ooxoxxxoooxxxoxo') )    \n",
    "    4 #               *   *   *   *\n",
    "      # four `x` at distance four\n",
    "``` \n"
   ]
  },
  {
   "cell_type": "code",
   "execution_count": 1,
   "metadata": {
    "pycharm": {
     "is_executing": false
    }
   },
   "outputs": [
    {
     "name": "stdout",
     "text": [
      "2\n",
      "4\n"
     ],
     "output_type": "stream"
    }
   ],
   "source": [
    "def matches(s,n):\n",
    "    for start in range(n):\n",
    "        slice = s[start::n] # one char every n\n",
    "        if 'x'*n in slice:\n",
    "            return True\n",
    "    return False\n",
    "\n",
    "def my_fun(msg):\n",
    "  # range(9) # 0-8\n",
    "  # range(2, 9) # 2-8\n",
    "  # range(9, 19) # 9-19\n",
    "  # range(2, 9, 2) # 2,4,6,8\n",
    "  # 15, 1\n",
    "    # check from largest to smallest n\n",
    "    for n in range(len(msg),0,-1):\n",
    "        if matches(msg, n):\n",
    "            return n\n",
    "    return 0\n",
    "        \n",
    "print ( my_fun('xox') ) \n",
    "print ( my_fun('ooxoxxxoooxxxoxo') )"
   ]
  },
  {
   "cell_type": "markdown",
   "metadata": {},
   "source": [
    "# §§ Intro to Coding and Data Management (Part I) §§\n",
    "\n",
    "### March 21, 2018\n",
    "\n",
    "# Student First/Last Name: \n",
    "\n",
    "# Student ID:\n",
    "\n",
    "\n",
    "### Exam Description\n",
    "\n",
    "The exam includes 3 questions (worth 3 points) and 5 exercises (worth 9 points).\n",
    "\n",
    "For each question, write down the single operations leading to the result (e.g., 1+3+5+7+9=25).\n",
    "\n",
    "For each exercise, provide the Python code implementing the requested function.\n",
    "Please include comments in your code so as to explain the meaning of each operation.\n",
    "If appropriate, include a short textual description of the algorithm implemented.\n",
    "\n",
    "Immediately write your First & Last Name, student ID on each paper, and sign them. You have to return all of them.\n",
    "\n",
    "You have 2 hours to complete the exam."
   ]
  },
  {
   "cell_type": "markdown",
   "metadata": {},
   "source": [
    "## Question Q1: What is the output of this code?"
   ]
  },
  {
   "cell_type": "code",
   "execution_count": 36,
   "metadata": {},
   "outputs": [
    {
     "name": "stdout",
     "output_type": "stream",
     "text": [
      "18\n"
     ]
    }
   ],
   "source": [
    "L = [1, 2, 3, 4, 5, 6, 7, 8, 9, 10]\n",
    "sum = 0\n",
    "for i in range(2,6):\n",
    "     sum += L[i]\n",
    "print(sum)"
   ]
  },
  {
   "cell_type": "markdown",
   "metadata": {},
   "source": [
    "## Question Q2: What is the output of this code?"
   ]
  },
  {
   "cell_type": "code",
   "execution_count": 37,
   "metadata": {},
   "outputs": [
    {
     "name": "stdout",
     "output_type": "stream",
     "text": [
      "21\n"
     ]
    }
   ],
   "source": [
    "L1 = [1, 2, 3, 4, 5, 6, 7, 8, 9, 10]\n",
    "sum = 0\n",
    "i = 10\n",
    "while i >= 6:\n",
    "    i = i - 2\n",
    "    sum += L1[i]\n",
    "print(sum)"
   ]
  },
  {
   "cell_type": "markdown",
   "metadata": {},
   "source": [
    "## Question Q3: What is the output of this code?"
   ]
  },
  {
   "cell_type": "code",
   "execution_count": 38,
   "metadata": {},
   "outputs": [
    {
     "name": "stdout",
     "output_type": "stream",
     "text": [
      "21\n"
     ]
    }
   ],
   "source": [
    "cnt = 0\n",
    "sum = 0\n",
    "for i in range(1,6):\n",
    "    if i%2 == 1:\n",
    "        sum += i\n",
    "        continue\n",
    "    for j in range(1,6):\n",
    "        cnt +=1\n",
    "        if j%2 == 0:\n",
    "            sum += j\n",
    "print(sum)"
   ]
  },
  {
   "cell_type": "markdown",
   "metadata": {},
   "source": [
    "## Exercise EX1: sub-list\n",
    "\n",
    "Write a function named `my_fun` that given a list `L`, returns a new list containing only the elements of `L` whose square value is larger than 100. * (Assume elements of `L` are integer numbers) *\n",
    "\n",
    "*Example:*\n",
    "```python \n",
    "    L = [13, 21, 24, 1, 3, 7, 14]\n",
    "    print ( my_fun(L) )    \n",
    "    [13, 21, 24, 14]\n",
    "```"
   ]
  },
  {
   "cell_type": "code",
   "execution_count": 39,
   "metadata": {},
   "outputs": [
    {
     "name": "stdout",
     "output_type": "stream",
     "text": [
      "[13, 21, 24, 14]\n"
     ]
    }
   ],
   "source": [
    "def my_fun(L):\n",
    "    new_L = [x for x in L if x**2>100]\n",
    "    return new_L\n",
    "\n",
    "L = [13, 21, 24, 1, 3, 7, 14]\n",
    "print ( my_fun(L) )"
   ]
  },
  {
   "cell_type": "markdown",
   "metadata": {},
   "source": [
    "## Exercise EX2: mean-absolute-error\n",
    "\n",
    "We are given a software that produced a list `P` of daily predictions for the Bitcoin exchange rate. For the same days we have the list `T` with the actual exchange rate. We want to evaluate the accuracy of the prediction.\n",
    "\n",
    "Write a function `my_fun` that given two lists `P` and `T` *(Assume `P` and `T` have the same length, and their elements are floats)* computes the Mean Absolute Error (MAE), where MAE of two lists of length $N$ is defined as:\n",
    "$$\n",
    "MAE(T,P) = \\frac{1}{N} \\sum_i \\left| T_i - P_i\\right|\n",
    "$$\n",
    "\n",
    "*Recall*: `abs(x)` returns the absolute value of `x`.\n",
    "\n",
    "*Example:*\n",
    "```python \n",
    "    T = [1, 3]\n",
    "    P = [1, 5]\n",
    "    print ( my_fun(T,P) )    \n",
    "    1\n",
    "    # because (1/2)*( |1-1| + |3-5| ) = (1/2)*(|0|+|-2|) = 1\n",
    "```"
   ]
  },
  {
   "cell_type": "code",
   "execution_count": 41,
   "metadata": {},
   "outputs": [
    {
     "name": "stdout",
     "output_type": "stream",
     "text": [
      "1.0\n"
     ]
    }
   ],
   "source": [
    "def my_fun(P,T):\n",
    "    mae = 0.0\n",
    "    for i in range(len(P)):\n",
    "        mae += abs(T[i]-P[i])\n",
    "    mae /= len(P)\n",
    "    return mae\n",
    "\n",
    "T = [1, 3]\n",
    "P = [1, 5]\n",
    "print ( my_fun(T,P) )"
   ]
  },
  {
   "cell_type": "markdown",
   "metadata": {},
   "source": [
    "## Exercise EX3: smallest-larger\n",
    "\n",
    "Write a function named `my_fun` that given a list `L` and an integer `n`, returns the smallest element in `L` that is larger than `n`, and returns `None` if such element does not exist. * (Assume elements of `L` are integer numbers) *\n",
    "\n",
    "*Example:*\n",
    "```python \n",
    "    L = [13, 21, 24, 1, 3, 7, 14]\n",
    "    print ( my_fun(L, 7) )    \n",
    "    13\n",
    "```"
   ]
  },
  {
   "cell_type": "code",
   "execution_count": 8,
   "metadata": {},
   "outputs": [
    {
     "name": "stdout",
     "output_type": "stream",
     "text": [
      "13\n"
     ]
    }
   ],
   "source": [
    "def my_fun(L, n):\n",
    "    smallest = None\n",
    "    for x in L:\n",
    "        if x>n:\n",
    "            if smallest is None or x<smallest:\n",
    "                smallest = x\n",
    "    return smallest\n",
    "\n",
    "L = [13, 21, 24, 1, 3, 7, 14]\n",
    "print ( my_fun(L, 7) ) "
   ]
  },
  {
   "cell_type": "markdown",
   "metadata": {},
   "source": [
    "## Exercise EX4: letters\n",
    "\n",
    "Write a function named `my_fun` that given a strings `s`, returns `True` if it uses all the letters of the english alphabet and `False` otherwise. * (Assume `s` contains alphabetical lowercase characters only) *\n",
    "\n",
    "*Example:*\n",
    "```python \n",
    "    print ( my_fun('the quick brown fox jumps over the lazy dog') )    \n",
    "    True \n",
    "    print ( my_fun('i have no idea') )    \n",
    "    False\n",
    "```"
   ]
  },
  {
   "cell_type": "code",
   "execution_count": 51,
   "metadata": {},
   "outputs": [
    {
     "name": "stdout",
     "output_type": "stream",
     "text": [
      "True\n",
      "False\n"
     ]
    }
   ],
   "source": [
    "def my_fun(s):\n",
    "    alphabet = 'abcdefghijklmnopqrstuvwxyz'\n",
    "    for a in alphabet:\n",
    "        if a not in s:\n",
    "            return False\n",
    "    return True\n",
    "\n",
    "print ( my_fun('the quick brown fox jumps over the lazy dog') )    \n",
    "print ( my_fun('i have no idea') )   "
   ]
  },
  {
   "cell_type": "markdown",
   "metadata": {},
   "source": [
    "## Exercise EX5: equi-spaced\n",
    "\n",
    "Write a function `my_fun` that given a string `msg` made only of the two characters `'o'` and `'x'`, returns the largest `n` for which there exist 4 equispaced `'x'` at distance `2*n` from each other in the string `msg`.\n",
    "\n",
    "\n",
    "*Example:*\n",
    "```python \n",
    "    print ( my_fun('xoxoxox') )    \n",
    "    1 # there are 4 `x` at distance 2*1\n",
    "    print ( my_fun('ooxoxxxoooxxxoxo') )    \n",
    "    2 #               *   *   *   *\n",
    "      # 4 `x` at distance 2*2\n",
    "``` \n"
   ]
  },
  {
   "cell_type": "code",
   "execution_count": 21,
   "metadata": {},
   "outputs": [
    {
     "name": "stdout",
     "output_type": "stream",
     "text": [
      "1\n",
      "2\n"
     ]
    }
   ],
   "source": [
    "def matches(s,n):\n",
    "    for start in range(2*n):\n",
    "        slice = s[start::2*n]\n",
    "        if 'xxxx' in slice:\n",
    "            return True\n",
    "    return False\n",
    "\n",
    "\n",
    "def my_fun(msg):\n",
    "    # check from largest to smallest n\n",
    "    for n in range(len(msg),0,-1):\n",
    "        if matches(msg, n):\n",
    "            return n\n",
    "    return 0\n",
    "\n",
    "print ( my_fun('xoxoxox') )    \n",
    "print ( my_fun('ooxoxxxoooxxxoxo') )  "
   ]
  },
  {
   "cell_type": "markdown",
   "metadata": {},
   "source": [
    "# §§§ Intro to Coding and Data Management (Part I) §§§\n",
    "\n",
    "### March 21, 2018\n",
    "\n",
    "# Student First/Last Name: \n",
    "\n",
    "# Student ID:\n",
    "\n",
    "\n",
    "### Exam Description\n",
    "\n",
    "The exam includes 3 questions (worth 3 points) and 5 exercises (worth 9 points).\n",
    "\n",
    "For each question, write down the single operations leading to the result (e.g., 1+3+5+7+9=25).\n",
    "\n",
    "For each exercise, provide the Python code implementing the requested function.\n",
    "Please include comments in your code so as to explain the meaning of each operation.\n",
    "If appropriate, include a short textual description of the algorithm implemented.\n",
    "\n",
    "Immediately write your First & Last Name, student ID on each paper, and sign them. You have to return all of them.\n",
    "\n",
    "You have 2 hours to complete the exam."
   ]
  },
  {
   "cell_type": "markdown",
   "metadata": {},
   "source": [
    "## Question Q1: What is the output of this code?"
   ]
  },
  {
   "cell_type": "code",
   "execution_count": 63,
   "metadata": {},
   "outputs": [
    {
     "name": "stdout",
     "output_type": "stream",
     "text": [
      "25\n"
     ]
    }
   ],
   "source": [
    "L = [1, 2, 3, 4, 5, 6, 7, 8, 9, 10]\n",
    "sum = 0\n",
    "for i in range(2,7):\n",
    "     sum += L[i]\n",
    "print(sum)"
   ]
  },
  {
   "cell_type": "markdown",
   "metadata": {},
   "source": [
    "## Question Q2: What is the output of this code?"
   ]
  },
  {
   "cell_type": "code",
   "execution_count": 64,
   "metadata": {},
   "outputs": [
    {
     "name": "stdout",
     "output_type": "stream",
     "text": [
      "25\n"
     ]
    }
   ],
   "source": [
    "L1 = [1, 2, 3, 4, 5, 6, 7, 8, 9, 10]\n",
    "sum = 0\n",
    "i = 10\n",
    "while i > 0:\n",
    "    i = i - 2\n",
    "    sum += L1[i]\n",
    "print(sum)"
   ]
  },
  {
   "cell_type": "markdown",
   "metadata": {},
   "source": [
    "## Question Q3: What is the output of this code?"
   ]
  },
  {
   "cell_type": "code",
   "execution_count": 65,
   "metadata": {},
   "outputs": [
    {
     "name": "stdout",
     "output_type": "stream",
     "text": [
      "27\n"
     ]
    }
   ],
   "source": [
    "cnt = 0\n",
    "sum = 0\n",
    "for i in range(6):\n",
    "    if i%2 == 1:\n",
    "        sum += i\n",
    "        continue\n",
    "    for j in range(6):\n",
    "        cnt +=1\n",
    "        if j%2 == 0:\n",
    "            sum += j\n",
    "print(sum)"
   ]
  },
  {
   "cell_type": "markdown",
   "metadata": {},
   "source": [
    "## Exercise EX1: sub-list\n",
    "\n",
    "Write a function named `my_fun` that given a list `L`, returns a new list containing only the elements of `L` in odd positions of the list (positions start from 0). * (Assume elements of `L` are integer numbers) *\n",
    "\n",
    "*Example:*\n",
    "```python \n",
    "    L = [13, 21, 24, 1, 3, 7, 14]\n",
    "    print ( my_fun(L) )    \n",
    "    [21, 1, 7]\n",
    "```"
   ]
  },
  {
   "cell_type": "code",
   "execution_count": 10,
   "metadata": {},
   "outputs": [
    {
     "name": "stdout",
     "output_type": "stream",
     "text": [
      "[21, 1, 7]\n"
     ]
    }
   ],
   "source": [
    "def my_fun(L):\n",
    "    new_L = [ L[i] for i in range(1,len(L),2) ]\n",
    "    return new_L\n",
    "\n",
    "L = [13, 21, 24, 1, 3, 7, 14]\n",
    "print ( my_fun(L) )  "
   ]
  },
  {
   "cell_type": "markdown",
   "metadata": {},
   "source": [
    "## Exercise EX2: mean-percentage-error\n",
    "\n",
    "We are given a software that produced a list `P` of daily predictions for the Bitcoin exchange rate. For the same days we have the list `T` with the actual exchange rate. We want to evaluate the accuracy of the prediction.\n",
    "\n",
    "Write a function `my_fun` that given two lists `P` and `T` *(Assume `P` and `T` have the same length, and their elements are floats)* computes the Mean Percentage Error (MPE), where MPE of two lists of length $N$ is defined as:\n",
    "$$\n",
    "MPE(T,P) = \\frac{100}{N} \\sum_i \\frac{T_i - P_i}{T_i}\n",
    "$$\n",
    "\n",
    "*Example:*\n",
    "```python \n",
    "    T = [1, 3]\n",
    "    P = [1, 6]\n",
    "    print ( my_fun(T,P) )    \n",
    "    -50\n",
    "    # because (100/2)*( (1-1)/1 + (3-6)/3 ) = (100/2)*(0-1) = -50\n",
    "```"
   ]
  },
  {
   "cell_type": "code",
   "execution_count": 11,
   "metadata": {},
   "outputs": [
    {
     "name": "stdout",
     "output_type": "stream",
     "text": [
      "-50.0\n"
     ]
    }
   ],
   "source": [
    "def my_fun(T,P):\n",
    "    mpe = 0.0\n",
    "    for i in range(len(P)):\n",
    "        mpe += (T[i]-P[i])/T[i]\n",
    "    mpe *= 100/len(P)\n",
    "    return mpe\n",
    "\n",
    "T = [1, 3]\n",
    "P = [1, 6]\n",
    "print ( my_fun(T,P) )"
   ]
  },
  {
   "cell_type": "markdown",
   "metadata": {},
   "source": [
    "## Exercise EX3: largest-smaller\n",
    "\n",
    "Write a function named `my_fun` that given a list `L` and an integer `n`, returns the index of the largest element in `L` that is smaller than `n`, and returns `-1` if such element does not exist. * (Assume elements of `L` are integer numbers) *\n",
    "\n",
    "*Example:*\n",
    "```python \n",
    "    L = [13, 21, 24, 1, 3, 7, 14]\n",
    "    print ( my_fun(L, 22) )    \n",
    "    1\n",
    "```"
   ]
  },
  {
   "cell_type": "code",
   "execution_count": 12,
   "metadata": {},
   "outputs": [
    {
     "name": "stdout",
     "output_type": "stream",
     "text": [
      "1\n"
     ]
    }
   ],
   "source": [
    "def my_fun(L,n):\n",
    "    largest = -1\n",
    "    for i in range(len(L)):\n",
    "        if L[i]<n:\n",
    "            if largest==-1 or L[i]>L[largest]:\n",
    "                largest = i\n",
    "    return largest\n",
    "\n",
    "L = [13, 21, 24, 1, 3, 7, 14]\n",
    "print ( my_fun(L, 22) )"
   ]
  },
  {
   "cell_type": "markdown",
   "metadata": {},
   "source": [
    "## Exercise EX4: quasi-mirror\n",
    "\n",
    "Write a function named `my_fun` that given two string `s` and `t`, returns `True` if the letters at odd indices of `s` are the same as the letters at even indices of `t` but in reverse order, and `False` otherwise. * (Assume `s` and `t` contain alphabetical lowercase characters only and they have the same length) *\n",
    "\n",
    "*Example:*\n",
    "```python \n",
    "    print ( my_fun('progress', 'sledgers') )    \n",
    "    #                > > > >    < < < <\n",
    "    #               odd index   even index\n",
    "    True \n",
    "```"
   ]
  },
  {
   "cell_type": "code",
   "execution_count": 21,
   "metadata": {},
   "outputs": [
    {
     "name": "stdout",
     "output_type": "stream",
     "text": [
      "True\n"
     ]
    }
   ],
   "source": [
    "def my_fun(s,t):\n",
    "    return s[1::2] == t[-2::-2]\n",
    "\n",
    "print ( my_fun('progress', 'sledgers') )"
   ]
  },
  {
   "cell_type": "markdown",
   "metadata": {},
   "source": [
    "## Exercise EX5: equi-spaced\n",
    "\n",
    "Write a function `my_fun` that given a string `msg` made only of the two characters `'o'` and `'x'`, returns the largest `n` for which there exist a subsequence of `n` alternatig `'x'` and `'o'` in the string `msg`.\n",
    "\n",
    "\n",
    "*Example:*\n",
    "```python \n",
    "    print ( my_fun('xoxooox') )    \n",
    "    4 # here        xoxo\n",
    "    print ( my_fun('ooxoxoxoooxxxoxo') )    \n",
    "    7 # here         oxoxoxo\n",
    "``` "
   ]
  },
  {
   "cell_type": "code",
   "execution_count": 22,
   "metadata": {},
   "outputs": [
    {
     "name": "stdout",
     "output_type": "stream",
     "text": [
      "4\n",
      "7\n"
     ]
    }
   ],
   "source": [
    "def matches(s,n):\n",
    "    alternating = 'ox'*n\n",
    "    ox = alternating[:n]    # seq of oxoxoxo \n",
    "    xo = alternating[1:n+1] # seq of xoxoxox\n",
    "    return ox in s or xo in s\n",
    "\n",
    "\n",
    "def my_fun(msg):\n",
    "    # check from largest to smallest n\n",
    "    for n in range(len(msg),0,-1):\n",
    "        if matches(msg, n):\n",
    "            return n\n",
    "    return 0\n",
    "\n",
    "print ( my_fun('xoxooox') )    \n",
    "print ( my_fun('ooxoxoxoooxxxoxo') ) "
   ]
  }
 ],
 "metadata": {
  "kernelspec": {
   "display_name": "Python 3",
   "language": "python",
   "name": "python3"
  },
  "language_info": {
   "codemirror_mode": {
    "name": "ipython",
    "version": 3
   },
   "file_extension": ".py",
   "mimetype": "text/x-python",
   "name": "python",
   "nbconvert_exporter": "python",
   "pygments_lexer": "ipython3",
   "version": "3.6.3"
  },
  "pycharm": {
   "stem_cell": {
    "cell_type": "raw",
    "source": [],
    "metadata": {
     "collapsed": false
    }
   }
  }
 },
 "nbformat": 4,
 "nbformat_minor": 2
}